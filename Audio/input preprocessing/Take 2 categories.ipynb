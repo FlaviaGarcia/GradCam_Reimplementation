{
 "cells": [
  {
   "cell_type": "code",
   "execution_count": 11,
   "metadata": {},
   "outputs": [],
   "source": [
    "import pandas as pd\n",
    "import glob \n",
    "import os "
   ]
  },
  {
   "cell_type": "code",
   "execution_count": 12,
   "metadata": {},
   "outputs": [],
   "source": [
    "categories = ['Hip-Hop', 'Folk']\n",
    "folder_name = \"../data/songsWithTags_wav\""
   ]
  },
  {
   "cell_type": "code",
   "execution_count": 13,
   "metadata": {},
   "outputs": [
    {
     "data": {
      "text/html": [
       "<div>\n",
       "<style scoped>\n",
       "    .dataframe tbody tr th:only-of-type {\n",
       "        vertical-align: middle;\n",
       "    }\n",
       "\n",
       "    .dataframe tbody tr th {\n",
       "        vertical-align: top;\n",
       "    }\n",
       "\n",
       "    .dataframe thead th {\n",
       "        text-align: right;\n",
       "    }\n",
       "</style>\n",
       "<table border=\"1\" class=\"dataframe\">\n",
       "  <thead>\n",
       "    <tr style=\"text-align: right;\">\n",
       "      <th></th>\n",
       "      <th>file_name</th>\n",
       "      <th>genre</th>\n",
       "      <th>path</th>\n",
       "    </tr>\n",
       "  </thead>\n",
       "  <tbody>\n",
       "    <tr>\n",
       "      <th>0</th>\n",
       "      <td>000002</td>\n",
       "      <td>Hip-Hop</td>\n",
       "      <td>songsWithTags_wav/000002.wav</td>\n",
       "    </tr>\n",
       "    <tr>\n",
       "      <th>1</th>\n",
       "      <td>000005</td>\n",
       "      <td>Hip-Hop</td>\n",
       "      <td>songsWithTags_wav/000005.wav</td>\n",
       "    </tr>\n",
       "    <tr>\n",
       "      <th>2</th>\n",
       "      <td>000010</td>\n",
       "      <td>Pop</td>\n",
       "      <td>songsWithTags_wav/000010.wav</td>\n",
       "    </tr>\n",
       "    <tr>\n",
       "      <th>3</th>\n",
       "      <td>000140</td>\n",
       "      <td>Folk</td>\n",
       "      <td>songsWithTags_wav/000140.wav</td>\n",
       "    </tr>\n",
       "    <tr>\n",
       "      <th>4</th>\n",
       "      <td>000141</td>\n",
       "      <td>Folk</td>\n",
       "      <td>songsWithTags_wav/000141.wav</td>\n",
       "    </tr>\n",
       "    <tr>\n",
       "      <th>5</th>\n",
       "      <td>000148</td>\n",
       "      <td>Experimental</td>\n",
       "      <td>songsWithTags_wav/000148.wav</td>\n",
       "    </tr>\n",
       "    <tr>\n",
       "      <th>6</th>\n",
       "      <td>000182</td>\n",
       "      <td>Rock</td>\n",
       "      <td>songsWithTags_wav/000182.wav</td>\n",
       "    </tr>\n",
       "    <tr>\n",
       "      <th>7</th>\n",
       "      <td>000190</td>\n",
       "      <td>Folk</td>\n",
       "      <td>songsWithTags_wav/000190.wav</td>\n",
       "    </tr>\n",
       "    <tr>\n",
       "      <th>8</th>\n",
       "      <td>000193</td>\n",
       "      <td>Folk</td>\n",
       "      <td>songsWithTags_wav/000193.wav</td>\n",
       "    </tr>\n",
       "    <tr>\n",
       "      <th>9</th>\n",
       "      <td>000194</td>\n",
       "      <td>Folk</td>\n",
       "      <td>songsWithTags_wav/000194.wav</td>\n",
       "    </tr>\n",
       "  </tbody>\n",
       "</table>\n",
       "</div>"
      ],
      "text/plain": [
       "  file_name         genre                          path\n",
       "0    000002       Hip-Hop  songsWithTags_wav/000002.wav\n",
       "1    000005       Hip-Hop  songsWithTags_wav/000005.wav\n",
       "2    000010           Pop  songsWithTags_wav/000010.wav\n",
       "3    000140          Folk  songsWithTags_wav/000140.wav\n",
       "4    000141          Folk  songsWithTags_wav/000141.wav\n",
       "5    000148  Experimental  songsWithTags_wav/000148.wav\n",
       "6    000182          Rock  songsWithTags_wav/000182.wav\n",
       "7    000190          Folk  songsWithTags_wav/000190.wav\n",
       "8    000193          Folk  songsWithTags_wav/000193.wav\n",
       "9    000194          Folk  songsWithTags_wav/000194.wav"
      ]
     },
     "execution_count": 13,
     "metadata": {},
     "output_type": "execute_result"
    }
   ],
   "source": [
    "# Read Data\n",
    "data = pd.read_csv(r'../data/music_analysis.csv')\n",
    "data['file_name'] = data['file_name'].apply(lambda x: '{0:0>6}'.format(x))\n",
    "data['path'] = folder_name + \"/\" + data['file_name'].astype('str') + \".wav\"\n",
    "data.head(10)"
   ]
  },
  {
   "cell_type": "code",
   "execution_count": 14,
   "metadata": {},
   "outputs": [],
   "source": [
    "for song in data.itertuples():\n",
    "    if song.genre not in categories: \n",
    "        os.remove(song.path)\n"
   ]
  },
  {
   "cell_type": "code",
   "execution_count": 22,
   "metadata": {},
   "outputs": [
    {
     "data": {
      "text/plain": [
       "'/Users/flaviagv/Documents/KTH master/Second year/P1/Advanced Deep Learning/Project/music/songsWithTags_wav'"
      ]
     },
     "execution_count": 22,
     "metadata": {},
     "output_type": "execute_result"
    }
   ],
   "source": [
    "os.getcwd()"
   ]
  },
  {
   "cell_type": "code",
   "execution_count": 24,
   "metadata": {},
   "outputs": [
    {
     "data": {
      "text/plain": [
       "2000"
      ]
     },
     "execution_count": 24,
     "metadata": {},
     "output_type": "execute_result"
    }
   ],
   "source": [
    "len(os.listdir(\".\"))\n"
   ]
  },
  {
   "cell_type": "code",
   "execution_count": 19,
   "metadata": {},
   "outputs": [
    {
     "data": {
      "text/plain": [
       "[]"
      ]
     },
     "execution_count": 19,
     "metadata": {},
     "output_type": "execute_result"
    }
   ],
   "source": [
    "glob.glob(\".wav\")"
   ]
  },
  {
   "cell_type": "code",
   "execution_count": 9,
   "metadata": {},
   "outputs": [
    {
     "data": {
      "text/plain": [
       "True"
      ]
     },
     "execution_count": 9,
     "metadata": {},
     "output_type": "execute_result"
    }
   ],
   "source": [
    "\"Hip-d\" not in categories"
   ]
  },
  {
   "cell_type": "code",
   "execution_count": null,
   "metadata": {},
   "outputs": [],
   "source": []
  },
  {
   "cell_type": "code",
   "execution_count": 4,
   "metadata": {},
   "outputs": [
    {
     "data": {
      "text/plain": [
       "array(['Hip-Hop', 'Pop', 'Folk', 'Experimental', 'Rock', 'International',\n",
       "       'Electronic', 'Instrumental'], dtype=object)"
      ]
     },
     "execution_count": 4,
     "metadata": {},
     "output_type": "execute_result"
    }
   ],
   "source": [
    "data.genre.unique()"
   ]
  }
 ],
 "metadata": {
  "kernelspec": {
   "display_name": "Python 3",
   "language": "python",
   "name": "python3"
  },
  "language_info": {
   "codemirror_mode": {
    "name": "ipython",
    "version": 3
   },
   "file_extension": ".py",
   "mimetype": "text/x-python",
   "name": "python",
   "nbconvert_exporter": "python",
   "pygments_lexer": "ipython3",
   "version": "3.7.9"
  }
 },
 "nbformat": 4,
 "nbformat_minor": 4
}
