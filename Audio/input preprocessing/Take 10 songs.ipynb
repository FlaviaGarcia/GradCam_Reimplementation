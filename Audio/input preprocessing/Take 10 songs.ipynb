{
 "cells": [
  {
   "cell_type": "markdown",
   "metadata": {},
   "source": [
    "We want to take 10 songs of each genre and store it in a sample folder "
   ]
  },
  {
   "cell_type": "code",
   "execution_count": 17,
   "metadata": {},
   "outputs": [],
   "source": [
    "import pandas as pd\n",
    "import os\n",
    "from shutil import copyfile\n",
    "\n"
   ]
  },
  {
   "cell_type": "code",
   "execution_count": 18,
   "metadata": {},
   "outputs": [],
   "source": [
    "categories = ['Hip-Hop', 'Folk']\n",
    "folder_name_src = \"../data/songsWithTags_wav\"\n",
    "folder_name_dest = \"../data/songs_samples_2\""
   ]
  },
  {
   "cell_type": "code",
   "execution_count": 19,
   "metadata": {},
   "outputs": [
    {
     "data": {
      "text/html": [
       "<div>\n",
       "<style scoped>\n",
       "    .dataframe tbody tr th:only-of-type {\n",
       "        vertical-align: middle;\n",
       "    }\n",
       "\n",
       "    .dataframe tbody tr th {\n",
       "        vertical-align: top;\n",
       "    }\n",
       "\n",
       "    .dataframe thead th {\n",
       "        text-align: right;\n",
       "    }\n",
       "</style>\n",
       "<table border=\"1\" class=\"dataframe\">\n",
       "  <thead>\n",
       "    <tr style=\"text-align: right;\">\n",
       "      <th></th>\n",
       "      <th>file_name</th>\n",
       "      <th>genre</th>\n",
       "      <th>path</th>\n",
       "    </tr>\n",
       "  </thead>\n",
       "  <tbody>\n",
       "    <tr>\n",
       "      <th>0</th>\n",
       "      <td>000002</td>\n",
       "      <td>Hip-Hop</td>\n",
       "      <td>songsWithTags_wav/000002.wav</td>\n",
       "    </tr>\n",
       "    <tr>\n",
       "      <th>1</th>\n",
       "      <td>000005</td>\n",
       "      <td>Hip-Hop</td>\n",
       "      <td>songsWithTags_wav/000005.wav</td>\n",
       "    </tr>\n",
       "    <tr>\n",
       "      <th>2</th>\n",
       "      <td>000010</td>\n",
       "      <td>Pop</td>\n",
       "      <td>songsWithTags_wav/000010.wav</td>\n",
       "    </tr>\n",
       "    <tr>\n",
       "      <th>3</th>\n",
       "      <td>000140</td>\n",
       "      <td>Folk</td>\n",
       "      <td>songsWithTags_wav/000140.wav</td>\n",
       "    </tr>\n",
       "    <tr>\n",
       "      <th>4</th>\n",
       "      <td>000141</td>\n",
       "      <td>Folk</td>\n",
       "      <td>songsWithTags_wav/000141.wav</td>\n",
       "    </tr>\n",
       "    <tr>\n",
       "      <th>5</th>\n",
       "      <td>000148</td>\n",
       "      <td>Experimental</td>\n",
       "      <td>songsWithTags_wav/000148.wav</td>\n",
       "    </tr>\n",
       "    <tr>\n",
       "      <th>6</th>\n",
       "      <td>000182</td>\n",
       "      <td>Rock</td>\n",
       "      <td>songsWithTags_wav/000182.wav</td>\n",
       "    </tr>\n",
       "    <tr>\n",
       "      <th>7</th>\n",
       "      <td>000190</td>\n",
       "      <td>Folk</td>\n",
       "      <td>songsWithTags_wav/000190.wav</td>\n",
       "    </tr>\n",
       "    <tr>\n",
       "      <th>8</th>\n",
       "      <td>000193</td>\n",
       "      <td>Folk</td>\n",
       "      <td>songsWithTags_wav/000193.wav</td>\n",
       "    </tr>\n",
       "    <tr>\n",
       "      <th>9</th>\n",
       "      <td>000194</td>\n",
       "      <td>Folk</td>\n",
       "      <td>songsWithTags_wav/000194.wav</td>\n",
       "    </tr>\n",
       "  </tbody>\n",
       "</table>\n",
       "</div>"
      ],
      "text/plain": [
       "  file_name         genre                          path\n",
       "0    000002       Hip-Hop  songsWithTags_wav/000002.wav\n",
       "1    000005       Hip-Hop  songsWithTags_wav/000005.wav\n",
       "2    000010           Pop  songsWithTags_wav/000010.wav\n",
       "3    000140          Folk  songsWithTags_wav/000140.wav\n",
       "4    000141          Folk  songsWithTags_wav/000141.wav\n",
       "5    000148  Experimental  songsWithTags_wav/000148.wav\n",
       "6    000182          Rock  songsWithTags_wav/000182.wav\n",
       "7    000190          Folk  songsWithTags_wav/000190.wav\n",
       "8    000193          Folk  songsWithTags_wav/000193.wav\n",
       "9    000194          Folk  songsWithTags_wav/000194.wav"
      ]
     },
     "execution_count": 19,
     "metadata": {},
     "output_type": "execute_result"
    }
   ],
   "source": [
    "data = pd.read_csv(r'../data/music_analysis.csv')\n",
    "data['file_name'] = data['file_name'].apply(lambda x: '{0:0>6}'.format(x))\n",
    "data['path'] = folder_name_src + \"/\" + data['file_name'].astype('str') + \".wav\"\n",
    "data.head(10)"
   ]
  },
  {
   "cell_type": "code",
   "execution_count": 20,
   "metadata": {},
   "outputs": [],
   "source": [
    "os.mkdir(folder_name_dest)"
   ]
  },
  {
   "cell_type": "code",
   "execution_count": 21,
   "metadata": {},
   "outputs": [],
   "source": [
    "hip_hop_songs = data[data.genre=='Hip-Hop'][\"path\"]\n",
    "\n",
    "for i in range(100):\n",
    "    src = hip_hop_songs.iloc[i]\n",
    "    dst = os.path.join(folder_name_dest, src.split(\"/\")[1])\n",
    "    copyfile(src, dst)"
   ]
  },
  {
   "cell_type": "code",
   "execution_count": 22,
   "metadata": {},
   "outputs": [],
   "source": [
    "folk_songs = data[data.genre==\"Folk\"][\"path\"]\n",
    "\n",
    "for i in range(100):\n",
    "    src = folk_songs.iloc[i]\n",
    "    dst = os.path.join(folder_name_dest, src.split(\"/\")[1])\n",
    "    copyfile(src, dst)"
   ]
  },
  {
   "cell_type": "code",
   "execution_count": 9,
   "metadata": {},
   "outputs": [
    {
     "data": {
      "text/plain": [
       "'songsWitTags_wav/000002.wav'"
      ]
     },
     "execution_count": 9,
     "metadata": {},
     "output_type": "execute_result"
    }
   ],
   "source": []
  },
  {
   "cell_type": "code",
   "execution_count": null,
   "metadata": {},
   "outputs": [],
   "source": []
  }
 ],
 "metadata": {
  "kernelspec": {
   "display_name": "Python 3",
   "language": "python",
   "name": "python3"
  },
  "language_info": {
   "codemirror_mode": {
    "name": "ipython",
    "version": 3
   },
   "file_extension": ".py",
   "mimetype": "text/x-python",
   "name": "python",
   "nbconvert_exporter": "python",
   "pygments_lexer": "ipython3",
   "version": "3.7.9"
  }
 },
 "nbformat": 4,
 "nbformat_minor": 4
}
