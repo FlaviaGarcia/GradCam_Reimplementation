{
 "cells": [
  {
   "cell_type": "markdown",
   "metadata": {},
   "source": [
    "We will take the `.mp3` files in `songsWithTags` and they will be transformed to `.wav` and stored in `songsWithTags_wav` folder. "
   ]
  },
  {
   "cell_type": "code",
   "execution_count": null,
   "metadata": {},
   "outputs": [],
   "source": [
    "import os \n",
    "from pydub import AudioSegment\n",
    "from pydub.utils import which\n",
    "import pandas as pd\n",
    "from pathlib import Path"
   ]
  },
  {
   "cell_type": "code",
   "execution_count": null,
   "metadata": {},
   "outputs": [],
   "source": [
    "folder_name = \"songsWithTags\""
   ]
  },
  {
   "cell_type": "code",
   "execution_count": 15,
   "metadata": {},
   "outputs": [],
   "source": [
    "# convert wav to mp3      \n",
    "folder_name_wav = \"songsWithTags_wav\"\n",
    "AudioSegment.converter = which(\"ffmpeg\")\n",
    "os.mkdir(folder_name_wav)\n",
    "\n",
    "for file_name in os.listdir(folder_name + \"/.\"):\n",
    "    file_name_path_src = os.path.join(folder_name, file_name)\n",
    "    file_name_path_dst = os.path.join(folder_name_wav, file_name).replace(\".mp3\", \".wav\")                                      \n",
    "    sound = AudioSegment.from_file(file_name_path_src, format=\"mp3\")\n",
    "    sound.export(file_name_path_dst, format=\"wav\")"
   ]
  }
 ],
 "metadata": {
  "kernelspec": {
   "display_name": "Python 3",
   "language": "python",
   "name": "python3"
  },
  "language_info": {
   "codemirror_mode": {
    "name": "ipython",
    "version": 3
   },
   "file_extension": ".py",
   "mimetype": "text/x-python",
   "name": "python",
   "nbconvert_exporter": "python",
   "pygments_lexer": "ipython3",
   "version": "3.7.9"
  }
 },
 "nbformat": 4,
 "nbformat_minor": 4
}
